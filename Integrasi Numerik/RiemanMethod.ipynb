{
 "cells": [
  {
   "cell_type": "code",
   "execution_count": 2,
   "metadata": {},
   "outputs": [],
   "source": [
    "import numpy as np\n",
    "\n",
    "f = lambda x:1/x\n",
    "a = 1\n",
    "b = 2\n",
    "n = 4\n",
    "h = (b-a)/n"
   ]
  },
  {
   "cell_type": "code",
   "execution_count": 4,
   "metadata": {},
   "outputs": [
    {
     "name": "stdout",
     "output_type": "stream",
     "text": [
      "[1.         0.8        0.66666667 0.57142857]\n",
      "0.7595238095238095\n"
     ]
    }
   ],
   "source": [
    "#kiri [x0, x1, x2, x3] --> [a, a+h, ..., b-h]\n",
    "x_kiri = np.linspace(a, b-h, n)\n",
    "print(f(x_kiri))\n",
    "jumlah_rieman_kiri = np.sum(f(x_kiri)*h)\n",
    "print(jumlah_rieman_kiri)"
   ]
  },
  {
   "cell_type": "code",
   "execution_count": 12,
   "metadata": {},
   "outputs": [
    {
     "name": "stdout",
     "output_type": "stream",
     "text": [
      "[0.8        0.66666667 0.57142857 0.5       ]\n",
      "0.6345238095238095\n"
     ]
    }
   ],
   "source": [
    "#kanan [x1, x2, x3, x4] --> [a+h, ..., b-h]\n",
    "x_kanan = np.linspace(a+h, b, n)\n",
    "print(f(x_kanan))\n",
    "jumlah_rieman_kanan = np.sum(f(x_kanan)*h)\n",
    "print(jumlah_rieman_kanan)"
   ]
  },
  {
   "cell_type": "code",
   "execution_count": 13,
   "metadata": {},
   "outputs": [
    {
     "name": "stdout",
     "output_type": "stream",
     "text": [
      "[0.88888889 0.72727273 0.61538462 0.53333333]\n",
      "0.6912198912198912\n"
     ]
    }
   ],
   "source": [
    "#tengah [(x0+x1)/2, (x1+x2)/2, (x2+x3)/2, (x3+x4)/2] --> [a, a+h, ..., b]\n",
    "x_tengah = np.linspace((a+a+h)/2, (b+b-h)/2, n)\n",
    "print(f(x_tengah))\n",
    "jumlah_rieman_tengah = np.sum(f(x_tengah)*h)\n",
    "print(jumlah_rieman_tengah)"
   ]
  },
  {
   "cell_type": "code",
   "execution_count": 19,
   "metadata": {},
   "outputs": [
    {
     "name": "stdout",
     "output_type": "stream",
     "text": [
      "0.6912198912198912\n"
     ]
    }
   ],
   "source": [
    "#tengah2\n",
    "x_tengah2 = np.linspace(a+(b-a)/(2*n), b-(b-a)/(2*n), n)\n",
    "fx = f(x_tengah2)\n",
    "jumlah_rieman_tengah2 = np.sum(f(x_tengah2)*h)\n",
    "print(jumlah_rieman_tengah2)\n"
   ]
  }
 ],
 "metadata": {
  "interpreter": {
   "hash": "db1a8c55cd8c57749aba357ad6d7f02ea33a41f5335b95db64c81822b40200a7"
  },
  "kernelspec": {
   "display_name": "Python 3.9.6 64-bit",
   "language": "python",
   "name": "python3"
  },
  "language_info": {
   "codemirror_mode": {
    "name": "ipython",
    "version": 3
   },
   "file_extension": ".py",
   "mimetype": "text/x-python",
   "name": "python",
   "nbconvert_exporter": "python",
   "pygments_lexer": "ipython3",
   "version": "3.9.6"
  },
  "orig_nbformat": 4
 },
 "nbformat": 4,
 "nbformat_minor": 2
}
